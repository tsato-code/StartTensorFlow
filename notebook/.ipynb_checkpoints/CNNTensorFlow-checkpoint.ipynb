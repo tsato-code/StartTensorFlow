{
 "cells": [
  {
   "cell_type": "code",
   "execution_count": 28,
   "metadata": {},
   "outputs": [],
   "source": [
    "from tensorflow.python.keras.datasets import cifar10\n",
    "from tensorflow.python.keras.utils import to_categorical\n",
    "from tensorflow.python.keras.callbacks import TensorBoard\n",
    "from tensorflow.python.keras.layers import Conv2D, MaxPooling2D, Dropout, Flatten, Dense\n",
    "from tensorflow.python.keras.models import Sequential\n",
    "import matplotlib.pyplot as plt\n",
    "import matplotlib.ticker as ticker"
   ]
  },
  {
   "cell_type": "code",
   "execution_count": 3,
   "metadata": {},
   "outputs": [
    {
     "name": "stdout",
     "output_type": "stream",
     "text": [
      "Downloading data from https://www.cs.toronto.edu/~kriz/cifar-10-python.tar.gz\n",
      "170500096/170498071 [==============================] - 16s 0us/step\n"
     ]
    }
   ],
   "source": [
    "# データインポート\n",
    "(x_train, y_train), (x_test, y_test) = cifar10.load_data()"
   ]
  },
  {
   "cell_type": "code",
   "execution_count": 4,
   "metadata": {},
   "outputs": [
    {
     "data": {
      "image/png": "[encoded data removed]",
      "text/plain": [
       "<Figure size 72x72 with 1 Axes>"
      ]
     },
     "metadata": {},
     "output_type": "display_data"
    }
   ],
   "source": [
    "plt.figure(figsize=(1,1))\n",
    "plt.imshow(x_train[3],cmap=\"gray\")\n",
    "plt.show()"
   ]
  },
  {
   "cell_type": "code",
   "execution_count": 5,
   "metadata": {},
   "outputs": [],
   "source": [
    "x_train = x_train/255.\n",
    "x_test = x_test/255.\n",
    "y_train = to_categorical(y_train, 10)\n",
    "y_test = to_categorical(y_test, 10)\n",
    "tsb = TensorBoard(log_dir=\"../logs\")"
   ]
  },
  {
   "cell_type": "code",
   "execution_count": 6,
   "metadata": {},
   "outputs": [
    {
     "name": "stdout",
     "output_type": "stream",
     "text": [
      "(50000, 32, 32, 3)\n",
      "(50000, 10)\n",
      "(10000, 32, 32, 3)\n",
      "(10000, 10)\n"
     ]
    }
   ],
   "source": [
    "print(x_train.shape)\n",
    "print(y_train.shape)\n",
    "print(x_test.shape)\n",
    "print(y_test.shape)"
   ]
  },
  {
   "cell_type": "code",
   "execution_count": 7,
   "metadata": {},
   "outputs": [
    {
     "name": "stderr",
     "output_type": "stream",
     "text": [
      "WARNING: Logging before flag parsing goes to stderr.\n",
      "W0814 00:04:18.240250 140275268310848 deprecation.py:506] From /home/ec2-user/anaconda3/envs/tensorflow_p36/lib/python3.6/site-packages/tensorflow/python/ops/init_ops.py:1251: calling VarianceScaling.__init__ (from tensorflow.python.ops.init_ops) with dtype is deprecated and will be removed in a future version.\n",
      "Instructions for updating:\n",
      "Call initializer instance with the dtype argument instead of passing it to the constructor\n"
     ]
    },
    {
     "data": {
      "text/plain": [
       "(None, 8, 8, 32)"
      ]
     },
     "execution_count": 7,
     "metadata": {},
     "output_type": "execute_result"
    }
   ],
   "source": [
    "model = Sequential()\n",
    "# (conv2d -> conv2d -> maxpooling -> dropout)\n",
    "# -> (conv2d -> conv2d -> maxpooling -> dropout)\n",
    "model.add(\n",
    "    Conv2D(\n",
    "        filters=32,\n",
    "        input_shape=(32, 32, 3),\n",
    "        kernel_size=(3, 3),\n",
    "        strides=(1, 1),\n",
    "        padding=\"same\",\n",
    "        activation=\"relu\"\n",
    "    )\n",
    ")\n",
    "model.add(\n",
    "    Conv2D(\n",
    "        filters=32,\n",
    "        kernel_size=(3, 3),\n",
    "        strides=(1, 1),\n",
    "        padding=\"same\",\n",
    "        activation=\"relu\"\n",
    "    )\n",
    ")\n",
    "model.add(MaxPooling2D(pool_size=(2, 2)))\n",
    "model.add(Dropout(0.25))\n",
    "model.add(\n",
    "    Conv2D(\n",
    "        filters=32,\n",
    "        input_shape=(32, 32, 3),\n",
    "        kernel_size=(3, 3),\n",
    "        strides=(1, 1),\n",
    "        padding=\"same\",\n",
    "        activation=\"relu\"\n",
    "    )\n",
    ")\n",
    "model.add(\n",
    "    Conv2D(\n",
    "        filters=32,\n",
    "        kernel_size=(3, 3),\n",
    "        strides=(1, 1),\n",
    "        padding=\"same\",\n",
    "        activation=\"relu\"\n",
    "    )\n",
    ")\n",
    "model.add(MaxPooling2D(pool_size=(2, 2)))\n",
    "model.add(Dropout(0.25))\n",
    "# ここまでの出力確認\n",
    "# (data_size, height, width, channel)\n",
    "model.output_shape"
   ]
  },
  {
   "cell_type": "code",
   "execution_count": 8,
   "metadata": {},
   "outputs": [
    {
     "data": {
      "text/plain": [
       "(None, 2048)"
      ]
     },
     "execution_count": 8,
     "metadata": {},
     "output_type": "execute_result"
    }
   ],
   "source": [
    "# このあと全結合層に入力するため、2次元に変換\n",
    "model.add(Flatten())\n",
    "model.output_shape"
   ]
  },
  {
   "cell_type": "code",
   "execution_count": 9,
   "metadata": {},
   "outputs": [],
   "source": [
    "# FC -> Dropout -> FC\n",
    "model.add(Dense(units=512, activation=\"relu\"))\n",
    "model.add(Dropout(0.5))\n",
    "model.add(Dense(units=10, activation=\"softmax\"))"
   ]
  },
  {
   "cell_type": "code",
   "execution_count": 10,
   "metadata": {},
   "outputs": [],
   "source": [
    "model.compile(\n",
    "    optimizer=\"adam\",\n",
    "    loss=\"categorical_crossentropy\",\n",
    "    metrics=[\"accuracy\"]\n",
    ")\n",
    "tsb = TensorBoard(log_dir=\"../logs\")"
   ]
  },
  {
   "cell_type": "code",
   "execution_count": 32,
   "metadata": {},
   "outputs": [
    {
     "name": "stdout",
     "output_type": "stream",
     "text": [
      "Model: \"sequential\"\n",
      "_________________________________________________________________\n",
      "Layer (type)                 Output Shape              Param #   \n",
      "=================================================================\n",
      "conv2d (Conv2D)              (None, 32, 32, 32)        896       \n",
      "_________________________________________________________________\n",
      "conv2d_1 (Conv2D)            (None, 32, 32, 32)        9248      \n",
      "_________________________________________________________________\n",
      "max_pooling2d (MaxPooling2D) (None, 16, 16, 32)        0         \n",
      "_________________________________________________________________\n",
      "dropout (Dropout)            (None, 16, 16, 32)        0         \n",
      "_________________________________________________________________\n",
      "conv2d_2 (Conv2D)            (None, 16, 16, 32)        9248      \n",
      "_________________________________________________________________\n",
      "conv2d_3 (Conv2D)            (None, 16, 16, 32)        9248      \n",
      "_________________________________________________________________\n",
      "max_pooling2d_1 (MaxPooling2 (None, 8, 8, 32)          0         \n",
      "_________________________________________________________________\n",
      "dropout_1 (Dropout)          (None, 8, 8, 32)          0         \n",
      "_________________________________________________________________\n",
      "flatten (Flatten)            (None, 2048)              0         \n",
      "_________________________________________________________________\n",
      "dense (Dense)                (None, 512)               1049088   \n",
      "_________________________________________________________________\n",
      "dropout_2 (Dropout)          (None, 512)               0         \n",
      "_________________________________________________________________\n",
      "dense_1 (Dense)              (None, 10)                5130      \n",
      "=================================================================\n",
      "Total params: 1,082,858\n",
      "Trainable params: 1,082,858\n",
      "Non-trainable params: 0\n",
      "_________________________________________________________________\n"
     ]
    }
   ],
   "source": [
    "model.summary()"
   ]
  },
  {
   "cell_type": "code",
   "execution_count": 11,
   "metadata": {},
   "outputs": [
    {
     "name": "stdout",
     "output_type": "stream",
     "text": [
      "Train on 40000 samples, validate on 10000 samples\n",
      "Epoch 1/20\n",
      "40000/40000 [==============================] - 37s 935us/sample - loss: 1.5567 - acc: 0.4306 - val_loss: 1.1579 - val_acc: 0.5836\n",
      "Epoch 2/20\n",
      "40000/40000 [==============================] - 12s 294us/sample - loss: 1.1585 - acc: 0.5860 - val_loss: 0.9903 - val_acc: 0.6493\n",
      "Epoch 3/20\n",
      "40000/40000 [==============================] - 12s 294us/sample - loss: 1.0107 - acc: 0.6455 - val_loss: 0.8808 - val_acc: 0.6903\n",
      "Epoch 4/20\n",
      "40000/40000 [==============================] - 12s 294us/sample - loss: 0.9206 - acc: 0.6743 - val_loss: 0.9025 - val_acc: 0.6844\n",
      "Epoch 5/20\n",
      "40000/40000 [==============================] - 12s 294us/sample - loss: 0.8473 - acc: 0.6995 - val_loss: 0.7976 - val_acc: 0.7251\n",
      "Epoch 6/20\n",
      "40000/40000 [==============================] - 12s 294us/sample - loss: 0.7984 - acc: 0.7205 - val_loss: 0.7611 - val_acc: 0.7325\n",
      "Epoch 7/20\n",
      "40000/40000 [==============================] - 12s 294us/sample - loss: 0.7568 - acc: 0.7347 - val_loss: 0.7548 - val_acc: 0.7353\n",
      "Epoch 8/20\n",
      "40000/40000 [==============================] - 12s 294us/sample - loss: 0.7159 - acc: 0.7484 - val_loss: 0.7252 - val_acc: 0.7534\n",
      "Epoch 9/20\n",
      "40000/40000 [==============================] - 12s 294us/sample - loss: 0.6845 - acc: 0.7596 - val_loss: 0.7489 - val_acc: 0.7492\n",
      "Epoch 10/20\n",
      "40000/40000 [==============================] - 12s 294us/sample - loss: 0.6571 - acc: 0.7707 - val_loss: 0.8025 - val_acc: 0.7337\n",
      "Epoch 11/20\n",
      "40000/40000 [==============================] - 12s 294us/sample - loss: 0.6296 - acc: 0.7768 - val_loss: 0.6769 - val_acc: 0.7658\n",
      "Epoch 12/20\n",
      "40000/40000 [==============================] - 12s 295us/sample - loss: 0.6003 - acc: 0.7880 - val_loss: 0.7116 - val_acc: 0.7610\n",
      "Epoch 13/20\n",
      "40000/40000 [==============================] - 12s 294us/sample - loss: 0.5856 - acc: 0.7937 - val_loss: 0.7161 - val_acc: 0.7600\n",
      "Epoch 14/20\n",
      "40000/40000 [==============================] - 12s 294us/sample - loss: 0.5682 - acc: 0.7997 - val_loss: 0.6921 - val_acc: 0.7680\n",
      "Epoch 15/20\n",
      "40000/40000 [==============================] - 12s 298us/sample - loss: 0.5573 - acc: 0.8059 - val_loss: 0.6965 - val_acc: 0.7670\n",
      "Epoch 16/20\n",
      "40000/40000 [==============================] - 12s 294us/sample - loss: 0.5402 - acc: 0.8078 - val_loss: 0.6948 - val_acc: 0.7699\n",
      "Epoch 17/20\n",
      "40000/40000 [==============================] - 12s 294us/sample - loss: 0.5188 - acc: 0.8135 - val_loss: 0.6566 - val_acc: 0.7810\n",
      "Epoch 18/20\n",
      "40000/40000 [==============================] - 12s 294us/sample - loss: 0.5121 - acc: 0.8198 - val_loss: 0.6706 - val_acc: 0.7782\n",
      "Epoch 19/20\n",
      "40000/40000 [==============================] - 12s 294us/sample - loss: 0.4998 - acc: 0.8227 - val_loss: 0.7141 - val_acc: 0.7674\n",
      "Epoch 20/20\n",
      "40000/40000 [==============================] - 12s 294us/sample - loss: 0.4850 - acc: 0.8277 - val_loss: 0.6820 - val_acc: 0.7738\n"
     ]
    }
   ],
   "source": [
    "history_adam = model.fit(\n",
    "    x_train,\n",
    "    y_train,\n",
    "    batch_size=32,\n",
    "    epochs=20,\n",
    "    validation_split=0.2,\n",
    "    callbacks=[tsb]\n",
    ")\n",
    "# ここでなぜかカーネルが落ちる"
   ]
  },
  {
   "cell_type": "code",
   "execution_count": 29,
   "metadata": {},
   "outputs": [
    {
     "data": {
      "image/png": "[encoded data removed]",
      "text/plain": [
       "<Figure size 432x288 with 1 Axes>"
      ]
     },
     "metadata": {},
     "output_type": "display_data"
    }
   ],
   "source": [
    "# loss プロット\n",
    "plt.plot(history_adam.history[\"loss\"], label=\"train\")\n",
    "plt.plot(history_adam.history[\"val_loss\"], label=\"validation\")\n",
    "plt.legend()\n",
    "plt.xlabel(\"epoch\")\n",
    "plt.ylabel(\"loss\")\n",
    "plt.gca().get_xaxis().set_major_locator(ticker.MaxNLocator(integer=True))\n",
    "plt.show()"
   ]
  },
  {
   "cell_type": "code",
   "execution_count": 30,
   "metadata": {},
   "outputs": [
    {
     "data": {
      "image/png": "[encoded data removed]",
      "text/plain": [
       "<Figure size 432x288 with 1 Axes>"
      ]
     },
     "metadata": {},
     "output_type": "display_data"
    }
   ],
   "source": [
    "# 精度プロット\n",
    "plt.plot(history_adam.history[\"acc\"], label=\"train\")\n",
    "plt.plot(history_adam.history[\"val_acc\"], label=\"validation\")\n",
    "plt.legend()\n",
    "plt.xlabel(\"epoch\")\n",
    "plt.ylabel(\"accuracy\")\n",
    "plt.gca().get_xaxis().set_major_locator(ticker.MaxNLocator(integer=True))\n",
    "plt.show()"
   ]
  },
  {
   "cell_type": "code",
   "execution_count": 39,
   "metadata": {},
   "outputs": [
    {
     "name": "stdout",
     "output_type": "stream",
     "text": [
      "shape of probs: (10000, 10)\n",
      "[2.9618943e-06 2.6021205e-06 1.2399990e-05 9.4291848e-01 6.1394849e-07\n",
      " 3.3121627e-02 5.8108335e-03 6.2638719e-07 1.8129820e-02 1.6721739e-07]\n"
     ]
    },
    {
     "data": {
      "image/png": "[encoded data removed]",
      "text/plain": [
       "<Figure size 72x72 with 1 Axes>"
      ]
     },
     "metadata": {},
     "output_type": "display_data"
    }
   ],
   "source": [
    "probs = model.predict(x_test)\n",
    "print(\"shape of probs:\", probs.shape)\n",
    "print(probs[0])\n",
    "plt.figure(figsize=(1,1))\n",
    "plt.imshow(x_test[0])\n",
    "plt.show()"
   ]
  }
 ],
 "metadata": {
  "kernelspec": {
   "display_name": "conda_tensorflow_p36",
   "language": "python",
   "name": "conda_tensorflow_p36"
  },
  "language_info": {
   "codemirror_mode": {
    "name": "ipython",
    "version": 3
   },
   "file_extension": ".py",
   "mimetype": "text/x-python",
   "name": "python",
   "nbconvert_exporter": "python",
   "pygments_lexer": "ipython3",
   "version": "3.6.5"
  }
 },
 "nbformat": 4,
 "nbformat_minor": 4
}
