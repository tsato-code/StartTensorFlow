{
 "cells": [
  {
   "cell_type": "code",
   "execution_count": 1,
   "metadata": {},
   "outputs": [],
   "source": [
    "from tensorflow.python.keras.datasets import mnist\n",
    "from tensorflow.python.keras.utils import to_categorical\n",
    "from tensorflow.python.keras.callbacks import TensorBoard\n",
    "from tensorflow.python.keras.layers import Input, Dense\n",
    "from tensorflow.python.keras.models import Model"
   ]
  },
  {
   "cell_type": "code",
   "execution_count": 2,
   "metadata": {},
   "outputs": [
    {
     "name": "stdout",
     "output_type": "stream",
     "text": [
      "(60000, 784)\n",
      "(60000, 10)\n",
      "(10000, 784)\n",
      "(10000, 10)\n"
     ]
    }
   ],
   "source": [
    "# データインポート\n",
    "(x_train, y_train), (x_test, y_test) = mnist.load_data()\n",
    "x_train = x_train.reshape(60000, 784)\n",
    "x_train = x_train/255.\n",
    "x_test = x_test.reshape(10000, 784)\n",
    "x_test = x_test/255.\n",
    "y_train = to_categorical(y_train, 10)\n",
    "y_test = to_categorical(y_test, 10)\n",
    "tsb = TensorBoard(log_dir=\"../logs\")\n",
    "print(x_train.shape)\n",
    "print(y_train.shape)\n",
    "print(x_test.shape)\n",
    "print(y_test.shape)"
   ]
  },
  {
   "cell_type": "code",
   "execution_count": 3,
   "metadata": {},
   "outputs": [
    {
     "name": "stderr",
     "output_type": "stream",
     "text": [
      "WARNING: Logging before flag parsing goes to stderr.\n",
      "W0813 14:05:01.180740 139635095848768 deprecation.py:506] From /home/ec2-user/anaconda3/envs/tensorflow_p36/lib/python3.6/site-packages/tensorflow/python/ops/init_ops.py:1251: calling VarianceScaling.__init__ (from tensorflow.python.ops.init_ops) with dtype is deprecated and will be removed in a future version.\n",
      "Instructions for updating:\n",
      "Call initializer instance with the dtype argument instead of passing it to the constructor\n"
     ]
    }
   ],
   "source": [
    "# モデルビルド\n",
    "input = Input(shape=(784,))\n",
    "middle = Dense(units=64, activation=\"relu\")(input)\n",
    "output = Dense(units=10, activation=\"softmax\")(middle)\n",
    "model = Model(inputs=[input], outputs=[output])"
   ]
  },
  {
   "cell_type": "code",
   "execution_count": 4,
   "metadata": {},
   "outputs": [
    {
     "name": "stdout",
     "output_type": "stream",
     "text": [
      "Train on 48000 samples, validate on 12000 samples\n",
      "Epoch 1/20\n",
      "48000/48000 [==============================] - 5s 103us/sample - loss: 0.3242 - acc: 0.9088 - val_loss: 0.1877 - val_acc: 0.9455\n",
      "Epoch 2/20\n",
      "48000/48000 [==============================] - 5s 97us/sample - loss: 0.1536 - acc: 0.9549 - val_loss: 0.1387 - val_acc: 0.9599\n",
      "Epoch 3/20\n",
      "48000/48000 [==============================] - 5s 97us/sample - loss: 0.1117 - acc: 0.9670 - val_loss: 0.1167 - val_acc: 0.9647\n",
      "Epoch 4/20\n",
      "48000/48000 [==============================] - 5s 98us/sample - loss: 0.0893 - acc: 0.9733 - val_loss: 0.1072 - val_acc: 0.9678\n",
      "Epoch 5/20\n",
      "48000/48000 [==============================] - 5s 97us/sample - loss: 0.0733 - acc: 0.9781 - val_loss: 0.1009 - val_acc: 0.9695\n",
      "Epoch 6/20\n",
      "48000/48000 [==============================] - 5s 97us/sample - loss: 0.0609 - acc: 0.9815 - val_loss: 0.0998 - val_acc: 0.9696\n",
      "Epoch 7/20\n",
      "48000/48000 [==============================] - 5s 97us/sample - loss: 0.0536 - acc: 0.9841 - val_loss: 0.1076 - val_acc: 0.9666\n",
      "Epoch 8/20\n",
      "48000/48000 [==============================] - 5s 97us/sample - loss: 0.0447 - acc: 0.9865 - val_loss: 0.1049 - val_acc: 0.9697\n",
      "Epoch 9/20\n",
      "48000/48000 [==============================] - 5s 97us/sample - loss: 0.0390 - acc: 0.9882 - val_loss: 0.1057 - val_acc: 0.9723\n",
      "Epoch 10/20\n",
      "48000/48000 [==============================] - 5s 97us/sample - loss: 0.0334 - acc: 0.9904 - val_loss: 0.0977 - val_acc: 0.9726\n",
      "Epoch 11/20\n",
      "48000/48000 [==============================] - 5s 97us/sample - loss: 0.0299 - acc: 0.9907 - val_loss: 0.0969 - val_acc: 0.9721\n",
      "Epoch 12/20\n",
      "48000/48000 [==============================] - 5s 97us/sample - loss: 0.0260 - acc: 0.9926 - val_loss: 0.0989 - val_acc: 0.9731\n",
      "Epoch 13/20\n",
      "48000/48000 [==============================] - 5s 97us/sample - loss: 0.0214 - acc: 0.9934 - val_loss: 0.1030 - val_acc: 0.9722\n",
      "Epoch 14/20\n",
      "48000/48000 [==============================] - 5s 97us/sample - loss: 0.0200 - acc: 0.9937 - val_loss: 0.1122 - val_acc: 0.9700\n",
      "Epoch 15/20\n",
      "48000/48000 [==============================] - 5s 97us/sample - loss: 0.0170 - acc: 0.9954 - val_loss: 0.1058 - val_acc: 0.9712\n",
      "Epoch 16/20\n",
      "48000/48000 [==============================] - 5s 97us/sample - loss: 0.0154 - acc: 0.9956 - val_loss: 0.1156 - val_acc: 0.9719\n",
      "Epoch 17/20\n",
      "48000/48000 [==============================] - 5s 97us/sample - loss: 0.0135 - acc: 0.9961 - val_loss: 0.1098 - val_acc: 0.9727\n",
      "Epoch 18/20\n",
      "48000/48000 [==============================] - 5s 97us/sample - loss: 0.0121 - acc: 0.9966 - val_loss: 0.1105 - val_acc: 0.9732\n",
      "Epoch 19/20\n",
      "48000/48000 [==============================] - 5s 97us/sample - loss: 0.0111 - acc: 0.9967 - val_loss: 0.1136 - val_acc: 0.9725\n",
      "Epoch 20/20\n",
      "48000/48000 [==============================] - 5s 97us/sample - loss: 0.0090 - acc: 0.9977 - val_loss: 0.1289 - val_acc: 0.9718\n"
     ]
    }
   ],
   "source": [
    "# コンパイル\n",
    "model.compile(\n",
    "    optimizer=\"adam\",\n",
    "    loss=\"categorical_crossentropy\",\n",
    "    metrics=[\"accuracy\"]\n",
    ")\n",
    "# 学習\n",
    "history_adam = model.fit(\n",
    "    x_train,\n",
    "    y_train,\n",
    "    batch_size=32,\n",
    "    epochs=20,\n",
    "    callbacks=[tsb],\n",
    "    validation_split=0.2\n",
    ")"
   ]
  },
  {
   "cell_type": "code",
   "execution_count": 5,
   "metadata": {},
   "outputs": [
    {
     "data": {
      "text/plain": [
       "([0.32417743529876075,\n",
       "  0.15362396098362902,\n",
       "  0.11171499792548517,\n",
       "  0.08933682607704152,\n",
       "  0.07332197657894964,\n",
       "  0.06093399045538778,\n",
       "  0.05356859203722949,\n",
       "  0.04474677421420347,\n",
       "  0.039041889591841024,\n",
       "  0.03344508868995278,\n",
       "  0.029916053207047905,\n",
       "  0.02600760873145191,\n",
       "  0.021419950221228647,\n",
       "  0.01999279981486325,\n",
       "  0.016974752254231135,\n",
       "  0.015380445353469744,\n",
       "  0.013457554176677756,\n",
       "  0.01214237580316391,\n",
       "  0.011137360055902415,\n",
       "  0.008997317466769648],\n",
       " [0.90879166,\n",
       "  0.9548542,\n",
       "  0.967,\n",
       "  0.9732917,\n",
       "  0.9780833,\n",
       "  0.98152083,\n",
       "  0.98410416,\n",
       "  0.9865,\n",
       "  0.98820835,\n",
       "  0.9904375,\n",
       "  0.99070835,\n",
       "  0.9925625,\n",
       "  0.9933958,\n",
       "  0.99366665,\n",
       "  0.99541664,\n",
       "  0.995625,\n",
       "  0.99614584,\n",
       "  0.996625,\n",
       "  0.99666667,\n",
       "  0.9977083],\n",
       " [0.1876953789740801,\n",
       "  0.13866004431744416,\n",
       "  0.11674094724406799,\n",
       "  0.10716902559747299,\n",
       "  0.10085745536846419,\n",
       "  0.09977454927377402,\n",
       "  0.10759409689716995,\n",
       "  0.1049350253107647,\n",
       "  0.10565197652989688,\n",
       "  0.09774283605596672,\n",
       "  0.09688234361385306,\n",
       "  0.09891533567298515,\n",
       "  0.103046804753365,\n",
       "  0.11217818477967133,\n",
       "  0.1058113573041046,\n",
       "  0.1155696906488156,\n",
       "  0.10977645323023899,\n",
       "  0.11053848668531283,\n",
       "  0.11361745177265645,\n",
       "  0.1288534613777204],\n",
       " [0.9455,\n",
       "  0.95991665,\n",
       "  0.96475,\n",
       "  0.96775,\n",
       "  0.9695,\n",
       "  0.96958333,\n",
       "  0.9665833,\n",
       "  0.96975,\n",
       "  0.9723333,\n",
       "  0.97258335,\n",
       "  0.97208333,\n",
       "  0.9730833,\n",
       "  0.97225,\n",
       "  0.97,\n",
       "  0.97125,\n",
       "  0.9719167,\n",
       "  0.9726667,\n",
       "  0.97325,\n",
       "  0.9725,\n",
       "  0.97183335])"
      ]
     },
     "execution_count": 5,
     "metadata": {},
     "output_type": "execute_result"
    }
   ],
   "source": [
    "history_adam.history[\"loss\"], history_adam.history[\"acc\"], history_adam.history[\"val_loss\"], history_adam.history[\"val_acc\"]"
   ]
  }
 ],
 "metadata": {
  "kernelspec": {
   "display_name": "conda_tensorflow_p36",
   "language": "python",
   "name": "conda_tensorflow_p36"
  },
  "language_info": {
   "codemirror_mode": {
    "name": "ipython",
    "version": 3
   },
   "file_extension": ".py",
   "mimetype": "text/x-python",
   "name": "python",
   "nbconvert_exporter": "python",
   "pygments_lexer": "ipython3",
   "version": "3.6.5"
  }
 },
 "nbformat": 4,
 "nbformat_minor": 4
}
