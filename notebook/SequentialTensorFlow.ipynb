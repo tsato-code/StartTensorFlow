{
 "cells": [
  {
   "cell_type": "code",
   "execution_count": 1,
   "metadata": {},
   "outputs": [
    {
     "name": "stdout",
     "output_type": "stream",
     "text": [
      "00:1e.0 3D controller: NVIDIA Corporation GK210GL [Tesla K80] (rev a1)\n",
      "---\n",
      "NVRM version: NVIDIA UNIX x86_64 Kernel Module  418.67  Sat Apr  6 03:07:24 CDT 2019\n",
      "GCC version:  gcc version 7.2.1 20170915 (Red Hat 7.2.1-2) (GCC) \n",
      "---\n",
      "Tue Aug 13 13:54:26 2019       \n",
      "+-----------------------------------------------------------------------------+\n",
      "| NVIDIA-SMI 418.67       Driver Version: 418.67       CUDA Version: 10.1     |\n",
      "|-------------------------------+----------------------+----------------------+\n",
      "| GPU  Name        Persistence-M| Bus-Id        Disp.A | Volatile Uncorr. ECC |\n",
      "| Fan  Temp  Perf  Pwr:Usage/Cap|         Memory-Usage | GPU-Util  Compute M. |\n",
      "|===============================+======================+======================|\n",
      "|   0  Tesla K80           On   | 00000000:00:1E.0 Off |                    0 |\n",
      "| N/A   50C    P0    79W / 149W |      0MiB / 11441MiB |    100%      Default |\n",
      "+-------------------------------+----------------------+----------------------+\n",
      "                                                                               \n",
      "+-----------------------------------------------------------------------------+\n",
      "| Processes:                                                       GPU Memory |\n",
      "|  GPU       PID   Type   Process name                             Usage      |\n",
      "|=============================================================================|\n",
      "|  No running processes found                                                 |\n",
      "+-----------------------------------------------------------------------------+\n"
     ]
    }
   ],
   "source": [
    "%%sh\n",
    "lspci | grep -i nvidia\n",
    "echo \"---\"\n",
    "cat /proc/driver/nvidia/version\n",
    "echo \"---\"\n",
    "nvidia-smi"
   ]
  },
  {
   "cell_type": "code",
   "execution_count": 2,
   "metadata": {},
   "outputs": [
    {
     "name": "stdout",
     "output_type": "stream",
     "text": [
      "[name: \"/device:CPU:0\"\n",
      "device_type: \"CPU\"\n",
      "memory_limit: 268435456\n",
      "locality {\n",
      "}\n",
      "incarnation: 11890442876711808975\n",
      ", name: \"/device:XLA_GPU:0\"\n",
      "device_type: \"XLA_GPU\"\n",
      "memory_limit: 17179869184\n",
      "locality {\n",
      "}\n",
      "incarnation: 14292989420657240792\n",
      "physical_device_desc: \"device: XLA_GPU device\"\n",
      ", name: \"/device:XLA_CPU:0\"\n",
      "device_type: \"XLA_CPU\"\n",
      "memory_limit: 17179869184\n",
      "locality {\n",
      "}\n",
      "incarnation: 18091739136589818926\n",
      "physical_device_desc: \"device: XLA_CPU device\"\n",
      ", name: \"/device:GPU:0\"\n",
      "device_type: \"GPU\"\n",
      "memory_limit: 11330115994\n",
      "locality {\n",
      "  bus_id: 1\n",
      "  links {\n",
      "  }\n",
      "}\n",
      "incarnation: 8219389199979211436\n",
      "physical_device_desc: \"device: 0, name: Tesla K80, pci bus id: 0000:00:1e.0, compute capability: 3.7\"\n",
      "]\n"
     ]
    }
   ],
   "source": [
    "from tensorflow.python.client import device_lib\n",
    "print(device_lib.list_local_devices())"
   ]
  },
  {
   "cell_type": "code",
   "execution_count": 3,
   "metadata": {},
   "outputs": [
    {
     "name": "stdout",
     "output_type": "stream",
     "text": [
      "1.14.0\n"
     ]
    }
   ],
   "source": [
    "import tensorflow as tf\n",
    "from tensorflow.python.keras.datasets import mnist\n",
    "from tensorflow.python.keras.utils import to_categorical\n",
    "from tensorflow.python.keras.models import Sequential\n",
    "from tensorflow.python.keras.layers import Dense\n",
    "from tensorflow.python.keras.callbacks import TensorBoard\n",
    "print(tf.__version__)"
   ]
  },
  {
   "cell_type": "code",
   "execution_count": 4,
   "metadata": {},
   "outputs": [
    {
     "name": "stdout",
     "output_type": "stream",
     "text": [
      "(60000, 28, 28)\n",
      "(60000,)\n",
      "(10000, 28, 28)\n",
      "(10000,)\n"
     ]
    }
   ],
   "source": [
    "# データインポート\n",
    "(x_train, y_train), (x_test, y_test) = mnist.load_data()\n",
    "print(x_train.shape)\n",
    "print(y_train.shape)\n",
    "print(x_test.shape)\n",
    "print(y_test.shape)"
   ]
  },
  {
   "cell_type": "code",
   "execution_count": 5,
   "metadata": {},
   "outputs": [],
   "source": [
    "x_train = x_train.reshape(60000, 784)\n",
    "x_train = x_train/255.\n",
    "x_test = x_test.reshape(10000, 784)\n",
    "x_test = x_test/255."
   ]
  },
  {
   "cell_type": "code",
   "execution_count": 6,
   "metadata": {},
   "outputs": [
    {
     "name": "stdout",
     "output_type": "stream",
     "text": [
      "(60000, 784)\n",
      "(60000,)\n",
      "(10000, 784)\n",
      "(10000,)\n"
     ]
    }
   ],
   "source": [
    "print(x_train.shape)\n",
    "print(y_train.shape)\n",
    "print(x_test.shape)\n",
    "print(y_test.shape)"
   ]
  },
  {
   "cell_type": "code",
   "execution_count": 7,
   "metadata": {},
   "outputs": [],
   "source": [
    "y_train = to_categorical(y_train, 10)\n",
    "y_test = to_categorical(y_test, 10)"
   ]
  },
  {
   "cell_type": "code",
   "execution_count": 8,
   "metadata": {},
   "outputs": [
    {
     "name": "stderr",
     "output_type": "stream",
     "text": [
      "WARNING: Logging before flag parsing goes to stderr.\n",
      "W0813 13:54:29.248596 140087214024512 deprecation.py:506] From /home/ec2-user/anaconda3/envs/tensorflow_p36/lib/python3.6/site-packages/tensorflow/python/ops/init_ops.py:1251: calling VarianceScaling.__init__ (from tensorflow.python.ops.init_ops) with dtype is deprecated and will be removed in a future version.\n",
      "Instructions for updating:\n",
      "Call initializer instance with the dtype argument instead of passing it to the constructor\n"
     ]
    }
   ],
   "source": [
    "# ネットワークの構築\n",
    "model = Sequential()\n",
    "# 中間層\n",
    "model.add(\n",
    "    Dense(\n",
    "        units=64,\n",
    "        input_shape=(784,),\n",
    "        activation=\"relu\"\n",
    "    )\n",
    ")\n",
    "model.add(\n",
    "    Dense(\n",
    "        units=10,\n",
    "    activation=\"softmax\"\n",
    "    )\n",
    ")"
   ]
  },
  {
   "cell_type": "code",
   "execution_count": 9,
   "metadata": {},
   "outputs": [
    {
     "name": "stdout",
     "output_type": "stream",
     "text": [
      "Train on 48000 samples, validate on 12000 samples\n",
      "Epoch 1/20\n",
      "48000/48000 [==============================] - 5s 102us/sample - loss: 0.3343 - acc: 0.9076 - val_loss: 0.1893 - val_acc: 0.9484\n",
      "Epoch 2/20\n",
      "48000/48000 [==============================] - 5s 97us/sample - loss: 0.1651 - acc: 0.9531 - val_loss: 0.1457 - val_acc: 0.9568\n",
      "Epoch 3/20\n",
      "48000/48000 [==============================] - 5s 100us/sample - loss: 0.1215 - acc: 0.9646 - val_loss: 0.1268 - val_acc: 0.9619\n",
      "Epoch 4/20\n",
      "48000/48000 [==============================] - 5s 97us/sample - loss: 0.0950 - acc: 0.9724 - val_loss: 0.1077 - val_acc: 0.9674\n",
      "Epoch 5/20\n",
      "48000/48000 [==============================] - 5s 97us/sample - loss: 0.0780 - acc: 0.9768 - val_loss: 0.1019 - val_acc: 0.9711\n",
      "Epoch 6/20\n",
      "48000/48000 [==============================] - 5s 97us/sample - loss: 0.0638 - acc: 0.9809 - val_loss: 0.1023 - val_acc: 0.9690\n",
      "Epoch 7/20\n",
      "48000/48000 [==============================] - 5s 98us/sample - loss: 0.0535 - acc: 0.9835 - val_loss: 0.0991 - val_acc: 0.9709\n",
      "Epoch 8/20\n",
      "48000/48000 [==============================] - 5s 98us/sample - loss: 0.0459 - acc: 0.9855 - val_loss: 0.1019 - val_acc: 0.9710\n",
      "Epoch 9/20\n",
      "48000/48000 [==============================] - 5s 97us/sample - loss: 0.0388 - acc: 0.9883 - val_loss: 0.1003 - val_acc: 0.9721\n",
      "Epoch 10/20\n",
      "48000/48000 [==============================] - 5s 97us/sample - loss: 0.0323 - acc: 0.9904 - val_loss: 0.1069 - val_acc: 0.9688\n",
      "Epoch 11/20\n",
      "48000/48000 [==============================] - 5s 97us/sample - loss: 0.0294 - acc: 0.9910 - val_loss: 0.1021 - val_acc: 0.9733\n",
      "Epoch 12/20\n",
      "48000/48000 [==============================] - 5s 97us/sample - loss: 0.0241 - acc: 0.9927 - val_loss: 0.1114 - val_acc: 0.9720\n",
      "Epoch 13/20\n",
      "48000/48000 [==============================] - 5s 104us/sample - loss: 0.0211 - acc: 0.9940 - val_loss: 0.1125 - val_acc: 0.9726\n",
      "Epoch 14/20\n",
      "48000/48000 [==============================] - 5s 97us/sample - loss: 0.0180 - acc: 0.9947 - val_loss: 0.1117 - val_acc: 0.9720\n",
      "Epoch 15/20\n",
      "48000/48000 [==============================] - 5s 97us/sample - loss: 0.0171 - acc: 0.9952 - val_loss: 0.1187 - val_acc: 0.9709\n",
      "Epoch 16/20\n",
      "48000/48000 [==============================] - 5s 97us/sample - loss: 0.0137 - acc: 0.9961 - val_loss: 0.1278 - val_acc: 0.9704\n",
      "Epoch 17/20\n",
      "48000/48000 [==============================] - 5s 97us/sample - loss: 0.0127 - acc: 0.9967 - val_loss: 0.1223 - val_acc: 0.9722\n",
      "Epoch 18/20\n",
      "48000/48000 [==============================] - 5s 97us/sample - loss: 0.0114 - acc: 0.9967 - val_loss: 0.1314 - val_acc: 0.9715\n",
      "Epoch 19/20\n",
      "48000/48000 [==============================] - 5s 98us/sample - loss: 0.0105 - acc: 0.9973 - val_loss: 0.1253 - val_acc: 0.9712\n",
      "Epoch 20/20\n",
      "48000/48000 [==============================] - 5s 97us/sample - loss: 0.0084 - acc: 0.9980 - val_loss: 0.1356 - val_acc: 0.9704\n"
     ]
    }
   ],
   "source": [
    "model.compile(\n",
    "    optimizer=\"adam\",\n",
    "    loss=\"categorical_crossentropy\",\n",
    "    metrics=[\"accuracy\"]\n",
    ")\n",
    "tsb = TensorBoard(log_dir=\"../logs\")\n",
    "history_adam = model.fit(\n",
    "    x_train,\n",
    "    y_train,\n",
    "    batch_size=32,\n",
    "    epochs=20,\n",
    "    validation_split=0.2,\n",
    "    callbacks=[tsb]\n",
    ")"
   ]
  },
  {
   "cell_type": "code",
   "execution_count": 10,
   "metadata": {},
   "outputs": [
    {
     "data": {
      "text/plain": [
       "([0.33433545850714047,\n",
       "  0.16506498453207313,\n",
       "  0.121485820222646,\n",
       "  0.09503053862089292,\n",
       "  0.07800709932499254,\n",
       "  0.06375332250826371,\n",
       "  0.0535361955803819,\n",
       "  0.04587861341723086,\n",
       "  0.03882519414209916,\n",
       "  0.032278310815648484,\n",
       "  0.0294405776373848,\n",
       "  0.024078686788726676,\n",
       "  0.021087151254701893,\n",
       "  0.01799577595463294,\n",
       "  0.017128750631265576,\n",
       "  0.013733074542073155,\n",
       "  0.012723390270492624,\n",
       "  0.011433174278119016,\n",
       "  0.01051610708683317,\n",
       "  0.008417590318143387],\n",
       " [0.9076458,\n",
       "  0.95314586,\n",
       "  0.964625,\n",
       "  0.97241664,\n",
       "  0.97675,\n",
       "  0.9808958,\n",
       "  0.9835,\n",
       "  0.9854583,\n",
       "  0.9882917,\n",
       "  0.9904375,\n",
       "  0.991,\n",
       "  0.9927292,\n",
       "  0.994,\n",
       "  0.99472916,\n",
       "  0.99516666,\n",
       "  0.99614584,\n",
       "  0.9967292,\n",
       "  0.9966875,\n",
       "  0.99733335,\n",
       "  0.998],\n",
       " [0.18930611083408197,\n",
       "  0.14573001246154307,\n",
       "  0.12679820483674606,\n",
       "  0.1076954030158619,\n",
       "  0.10187103798923393,\n",
       "  0.10227234617372354,\n",
       "  0.09912006964224081,\n",
       "  0.10186158854948978,\n",
       "  0.10032427547747891,\n",
       "  0.10686030963684122,\n",
       "  0.10211064234174168,\n",
       "  0.11142747613655714,\n",
       "  0.11251512969634496,\n",
       "  0.11172675739529465,\n",
       "  0.11870205869812829,\n",
       "  0.1278378309252051,\n",
       "  0.1222936946413538,\n",
       "  0.13136968410814492,\n",
       "  0.12530806897200333,\n",
       "  0.1356472653631451],\n",
       " [0.94841665,\n",
       "  0.95683336,\n",
       "  0.9619167,\n",
       "  0.96741664,\n",
       "  0.97108334,\n",
       "  0.969,\n",
       "  0.9709167,\n",
       "  0.971,\n",
       "  0.97208333,\n",
       "  0.9688333,\n",
       "  0.97333336,\n",
       "  0.972,\n",
       "  0.97258335,\n",
       "  0.972,\n",
       "  0.9709167,\n",
       "  0.97041667,\n",
       "  0.97216666,\n",
       "  0.9715,\n",
       "  0.97125,\n",
       "  0.97041667])"
      ]
     },
     "execution_count": 10,
     "metadata": {},
     "output_type": "execute_result"
    }
   ],
   "source": [
    "history_adam.history[\"loss\"], history_adam.history[\"acc\"], history_adam.history[\"val_loss\"], history_adam.history[\"val_acc\"]"
   ]
  }
 ],
 "metadata": {
  "kernelspec": {
   "display_name": "conda_tensorflow_p36",
   "language": "python",
   "name": "conda_tensorflow_p36"
  },
  "language_info": {
   "codemirror_mode": {
    "name": "ipython",
    "version": 3
   },
   "file_extension": ".py",
   "mimetype": "text/x-python",
   "name": "python",
   "nbconvert_exporter": "python",
   "pygments_lexer": "ipython3",
   "version": "3.6.5"
  }
 },
 "nbformat": 4,
 "nbformat_minor": 4
}
